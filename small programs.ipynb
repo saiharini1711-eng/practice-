{
  "nbformat": 4,
  "nbformat_minor": 0,
  "metadata": {
    "colab": {
      "provenance": [],
      "authorship_tag": "ABX9TyNxA6sQku5yRhHzW2gwVSpO",
      "include_colab_link": true
    },
    "kernelspec": {
      "name": "python3",
      "display_name": "Python 3"
    },
    "language_info": {
      "name": "python"
    }
  },
  "cells": [
    {
      "cell_type": "markdown",
      "metadata": {
        "id": "view-in-github",
        "colab_type": "text"
      },
      "source": [
        "<a href=\"https://colab.research.google.com/github/saiharini1711-eng/practice-/blob/main/small%20programs.ipynb\" target=\"_parent\"><img src=\"https://colab.research.google.com/assets/colab-badge.svg\" alt=\"Open In Colab\"/></a>"
      ]
    },
    {
      "cell_type": "code",
      "execution_count": 1,
      "metadata": {
        "colab": {
          "base_uri": "https://localhost:8080/"
        },
        "id": "9h8wSMV516R9",
        "outputId": "46cdc39c-18c2-4887-e8d1-538d423a1f54"
      },
      "outputs": [
        {
          "output_type": "stream",
          "name": "stdout",
          "text": [
            "120\n"
          ]
        }
      ],
      "source": [
        "num = 5\n",
        "fact = 1\n",
        "for i in range(1, num + 1):\n",
        "    fact *= i\n",
        "print(fact)\n"
      ]
    },
    {
      "cell_type": "code",
      "source": [
        "a, b = 0, 1\n",
        "for i in range(6):\n",
        "  print(a)\n",
        "a, b = b, a+b"
      ],
      "metadata": {
        "colab": {
          "base_uri": "https://localhost:8080/"
        },
        "id": "07WpB7i71_9e",
        "outputId": "f2bd4505-729f-4478-ed4e-d4159187e442"
      },
      "execution_count": 8,
      "outputs": [
        {
          "output_type": "stream",
          "name": "stdout",
          "text": [
            "0\n",
            "0\n",
            "0\n",
            "0\n",
            "0\n",
            "0\n"
          ]
        }
      ]
    },
    {
      "cell_type": "code",
      "source": [
        "num = 161\n",
        "if str(num) == str(num)[::-1]:\n",
        "  print(\"Palindrome\")\n",
        "else:\n",
        "  print(\"Not Palindrome\")"
      ],
      "metadata": {
        "colab": {
          "base_uri": "https://localhost:8080/",
          "height": 106
        },
        "id": "8ZMhDaTO460v",
        "outputId": "dc4bb3eb-2f59-4571-8e4c-cca66b1829df"
      },
      "execution_count": 11,
      "outputs": [
        {
          "output_type": "error",
          "ename": "SyntaxError",
          "evalue": "'break' outside loop (ipython-input-1634692050.py, line 4)",
          "traceback": [
            "\u001b[0;36m  File \u001b[0;32m\"/tmp/ipython-input-1634692050.py\"\u001b[0;36m, line \u001b[0;32m4\u001b[0m\n\u001b[0;31m    break\u001b[0m\n\u001b[0m    ^\u001b[0m\n\u001b[0;31mSyntaxError\u001b[0m\u001b[0;31m:\u001b[0m 'break' outside loop\n"
          ]
        }
      ]
    },
    {
      "cell_type": "code",
      "source": [
        "num = 10\n",
        "for i in range(2,num):\n",
        "  if num % i == 0:\n",
        "    print(\"Not prime\")\n",
        "    break\n",
        "  else:\n",
        "    print(\"Prime\")"
      ],
      "metadata": {
        "colab": {
          "base_uri": "https://localhost:8080/"
        },
        "id": "RH3sb4k05dh0",
        "outputId": "783c1997-0533-4b58-f5bd-e18daa2ecca4"
      },
      "execution_count": 13,
      "outputs": [
        {
          "output_type": "stream",
          "name": "stdout",
          "text": [
            "Not prime\n"
          ]
        }
      ]
    },
    {
      "cell_type": "code",
      "source": [
        "name = \" python\"\n",
        "print (name[::-1])\n"
      ],
      "metadata": {
        "colab": {
          "base_uri": "https://localhost:8080/"
        },
        "id": "W04_tPGZ6x6q",
        "outputId": "289ffe2f-6934-423f-d736-d0c03d69f67c"
      },
      "execution_count": 14,
      "outputs": [
        {
          "output_type": "stream",
          "name": "stdout",
          "text": [
            "nohtyp \n"
          ]
        }
      ]
    },
    {
      "cell_type": "code",
      "source": [
        "num = 123\n",
        "t = 0\n",
        "for i in str(num):\n",
        "  t += int(i)\n",
        "print(t)"
      ],
      "metadata": {
        "colab": {
          "base_uri": "https://localhost:8080/"
        },
        "id": "AKYzAoBk5uNx",
        "outputId": "4d2b44e2-bc10-4ab3-914b-f9aaf822d7f6"
      },
      "execution_count": 16,
      "outputs": [
        {
          "output_type": "stream",
          "name": "stdout",
          "text": [
            "6\n"
          ]
        }
      ]
    },
    {
      "cell_type": "code",
      "source": [
        "num = 153\n",
        "sum_cubes = 0\n",
        "\n",
        "for i in str(num):\n",
        "  sum_cubes += int(i)**3\n",
        "\n",
        "if sum_cubes == num:\n",
        "  print(\"Amstrong\")\n",
        "else:\n",
        "  print(\"Not Amstrong\")"
      ],
      "metadata": {
        "colab": {
          "base_uri": "https://localhost:8080/"
        },
        "id": "u-W8zE1Q7c-K",
        "outputId": "d92902f2-edce-4059-ff45-4e6c0c9f30a1"
      },
      "execution_count": 18,
      "outputs": [
        {
          "output_type": "stream",
          "name": "stdout",
          "text": [
            "Amstrong\n"
          ]
        }
      ]
    }
  ]
}